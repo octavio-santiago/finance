{
  "nbformat": 4,
  "nbformat_minor": 0,
  "metadata": {
    "colab": {
      "name": "Investimentos Python 01.ipynb",
      "provenance": [],
      "authorship_tag": "ABX9TyMmlYswgoPSKAxccFs2+Pj6",
      "include_colab_link": true
    },
    "kernelspec": {
      "name": "python3",
      "display_name": "Python 3"
    }
  },
  "cells": [
    {
      "cell_type": "markdown",
      "metadata": {
        "id": "view-in-github",
        "colab_type": "text"
      },
      "source": [
        "<a href=\"https://colab.research.google.com/github/octavio-santiago/finance/blob/master/Investimentos_Python_01.ipynb\" target=\"_parent\"><img src=\"https://colab.research.google.com/assets/colab-badge.svg\" alt=\"Open In Colab\"/></a>"
      ]
    },
    {
      "cell_type": "markdown",
      "metadata": {
        "id": "_yolnVDudEKZ",
        "colab_type": "text"
      },
      "source": [
        "# Importar bibliotecas"
      ]
    },
    {
      "cell_type": "code",
      "metadata": {
        "id": "QNjrn5o2dFin",
        "colab_type": "code",
        "outputId": "eadc39e0-804e-495d-b668-8077a34dc908",
        "colab": {
          "base_uri": "https://localhost:8080/",
          "height": 255
        }
      },
      "source": [
        "!pip install yfinance --upgrade --no-cache-dir\n",
        "import yfinance as yf\n",
        "yf.pdr_override()\n",
        "\n",
        "import pandas as df\n",
        "import pandas_datareader.data as web\n",
        "import matplotlib.pyplot as plt\n",
        "import seaborn as sns\n",
        "import numpy as np\n",
        "import math"
      ],
      "execution_count": 0,
      "outputs": [
        {
          "output_type": "stream",
          "text": [
            "Requirement already up-to-date: yfinance in /usr/local/lib/python3.6/dist-packages (0.1.54)\n",
            "Requirement already satisfied, skipping upgrade: numpy>=1.15 in /usr/local/lib/python3.6/dist-packages (from yfinance) (1.18.3)\n",
            "Requirement already satisfied, skipping upgrade: multitasking>=0.0.7 in /usr/local/lib/python3.6/dist-packages (from yfinance) (0.0.9)\n",
            "Requirement already satisfied, skipping upgrade: requests>=2.20 in /usr/local/lib/python3.6/dist-packages (from yfinance) (2.23.0)\n",
            "Requirement already satisfied, skipping upgrade: pandas>=0.24 in /usr/local/lib/python3.6/dist-packages (from yfinance) (1.0.3)\n",
            "Requirement already satisfied, skipping upgrade: chardet<4,>=3.0.2 in /usr/local/lib/python3.6/dist-packages (from requests>=2.20->yfinance) (3.0.4)\n",
            "Requirement already satisfied, skipping upgrade: certifi>=2017.4.17 in /usr/local/lib/python3.6/dist-packages (from requests>=2.20->yfinance) (2020.4.5.1)\n",
            "Requirement already satisfied, skipping upgrade: urllib3!=1.25.0,!=1.25.1,<1.26,>=1.21.1 in /usr/local/lib/python3.6/dist-packages (from requests>=2.20->yfinance) (1.24.3)\n",
            "Requirement already satisfied, skipping upgrade: idna<3,>=2.5 in /usr/local/lib/python3.6/dist-packages (from requests>=2.20->yfinance) (2.9)\n",
            "Requirement already satisfied, skipping upgrade: pytz>=2017.2 in /usr/local/lib/python3.6/dist-packages (from pandas>=0.24->yfinance) (2018.9)\n",
            "Requirement already satisfied, skipping upgrade: python-dateutil>=2.6.1 in /usr/local/lib/python3.6/dist-packages (from pandas>=0.24->yfinance) (2.8.1)\n",
            "Requirement already satisfied, skipping upgrade: six>=1.5 in /usr/local/lib/python3.6/dist-packages (from python-dateutil>=2.6.1->pandas>=0.24->yfinance) (1.12.0)\n"
          ],
          "name": "stdout"
        },
        {
          "output_type": "stream",
          "text": [
            "/usr/local/lib/python3.6/dist-packages/pandas_datareader/compat/__init__.py:7: FutureWarning: pandas.util.testing is deprecated. Use the functions in the public API at pandas.testing instead.\n",
            "  from pandas.util.testing import assert_frame_equal\n"
          ],
          "name": "stderr"
        }
      ]
    },
    {
      "cell_type": "markdown",
      "metadata": {
        "id": "JwER_MhPdTV7",
        "colab_type": "text"
      },
      "source": [
        "# Obter dados economicos"
      ]
    },
    {
      "cell_type": "code",
      "metadata": {
        "id": "rITjTyVRdaBb",
        "colab_type": "code",
        "outputId": "eef859a3-794b-4730-86e8-a9c681808d90",
        "colab": {
          "base_uri": "https://localhost:8080/",
          "height": 467
        }
      },
      "source": [
        "vvar3 = web.get_data_yahoo('VVAR3.SA', period='1y')\n",
        "vvar3"
      ],
      "execution_count": 0,
      "outputs": [
        {
          "output_type": "stream",
          "text": [
            "\r[*********************100%***********************]  1 of 1 completed\n"
          ],
          "name": "stdout"
        },
        {
          "output_type": "execute_result",
          "data": {
            "text/html": [
              "<div>\n",
              "<style scoped>\n",
              "    .dataframe tbody tr th:only-of-type {\n",
              "        vertical-align: middle;\n",
              "    }\n",
              "\n",
              "    .dataframe tbody tr th {\n",
              "        vertical-align: top;\n",
              "    }\n",
              "\n",
              "    .dataframe thead th {\n",
              "        text-align: right;\n",
              "    }\n",
              "</style>\n",
              "<table border=\"1\" class=\"dataframe\">\n",
              "  <thead>\n",
              "    <tr style=\"text-align: right;\">\n",
              "      <th></th>\n",
              "      <th>Open</th>\n",
              "      <th>High</th>\n",
              "      <th>Low</th>\n",
              "      <th>Close</th>\n",
              "      <th>Adj Close</th>\n",
              "      <th>Volume</th>\n",
              "    </tr>\n",
              "    <tr>\n",
              "      <th>Date</th>\n",
              "      <th></th>\n",
              "      <th></th>\n",
              "      <th></th>\n",
              "      <th></th>\n",
              "      <th></th>\n",
              "      <th></th>\n",
              "    </tr>\n",
              "  </thead>\n",
              "  <tbody>\n",
              "    <tr>\n",
              "      <th>2019-05-06</th>\n",
              "      <td>4.44</td>\n",
              "      <td>4.68</td>\n",
              "      <td>4.41</td>\n",
              "      <td>4.56</td>\n",
              "      <td>4.56</td>\n",
              "      <td>23288600</td>\n",
              "    </tr>\n",
              "    <tr>\n",
              "      <th>2019-05-07</th>\n",
              "      <td>4.62</td>\n",
              "      <td>4.72</td>\n",
              "      <td>4.60</td>\n",
              "      <td>4.72</td>\n",
              "      <td>4.72</td>\n",
              "      <td>23106900</td>\n",
              "    </tr>\n",
              "    <tr>\n",
              "      <th>2019-05-08</th>\n",
              "      <td>4.79</td>\n",
              "      <td>4.92</td>\n",
              "      <td>4.51</td>\n",
              "      <td>4.53</td>\n",
              "      <td>4.53</td>\n",
              "      <td>35307500</td>\n",
              "    </tr>\n",
              "    <tr>\n",
              "      <th>2019-05-09</th>\n",
              "      <td>4.45</td>\n",
              "      <td>4.75</td>\n",
              "      <td>4.33</td>\n",
              "      <td>4.74</td>\n",
              "      <td>4.74</td>\n",
              "      <td>32166700</td>\n",
              "    </tr>\n",
              "    <tr>\n",
              "      <th>2019-05-10</th>\n",
              "      <td>4.77</td>\n",
              "      <td>4.80</td>\n",
              "      <td>4.55</td>\n",
              "      <td>4.61</td>\n",
              "      <td>4.61</td>\n",
              "      <td>25329400</td>\n",
              "    </tr>\n",
              "    <tr>\n",
              "      <th>...</th>\n",
              "      <td>...</td>\n",
              "      <td>...</td>\n",
              "      <td>...</td>\n",
              "      <td>...</td>\n",
              "      <td>...</td>\n",
              "      <td>...</td>\n",
              "    </tr>\n",
              "    <tr>\n",
              "      <th>2020-04-28</th>\n",
              "      <td>8.29</td>\n",
              "      <td>9.57</td>\n",
              "      <td>8.22</td>\n",
              "      <td>9.04</td>\n",
              "      <td>9.04</td>\n",
              "      <td>308562800</td>\n",
              "    </tr>\n",
              "    <tr>\n",
              "      <th>2020-04-29</th>\n",
              "      <td>9.52</td>\n",
              "      <td>9.81</td>\n",
              "      <td>8.58</td>\n",
              "      <td>9.18</td>\n",
              "      <td>9.18</td>\n",
              "      <td>235755300</td>\n",
              "    </tr>\n",
              "    <tr>\n",
              "      <th>2020-04-30</th>\n",
              "      <td>8.77</td>\n",
              "      <td>9.32</td>\n",
              "      <td>8.66</td>\n",
              "      <td>9.18</td>\n",
              "      <td>9.18</td>\n",
              "      <td>157175600</td>\n",
              "    </tr>\n",
              "    <tr>\n",
              "      <th>2020-05-04</th>\n",
              "      <td>8.80</td>\n",
              "      <td>9.60</td>\n",
              "      <td>8.78</td>\n",
              "      <td>9.50</td>\n",
              "      <td>9.50</td>\n",
              "      <td>107827200</td>\n",
              "    </tr>\n",
              "    <tr>\n",
              "      <th>2020-05-05</th>\n",
              "      <td>9.94</td>\n",
              "      <td>10.41</td>\n",
              "      <td>9.64</td>\n",
              "      <td>9.76</td>\n",
              "      <td>9.76</td>\n",
              "      <td>169205800</td>\n",
              "    </tr>\n",
              "  </tbody>\n",
              "</table>\n",
              "<p>248 rows × 6 columns</p>\n",
              "</div>"
            ],
            "text/plain": [
              "            Open   High   Low  Close  Adj Close     Volume\n",
              "Date                                                      \n",
              "2019-05-06  4.44   4.68  4.41   4.56       4.56   23288600\n",
              "2019-05-07  4.62   4.72  4.60   4.72       4.72   23106900\n",
              "2019-05-08  4.79   4.92  4.51   4.53       4.53   35307500\n",
              "2019-05-09  4.45   4.75  4.33   4.74       4.74   32166700\n",
              "2019-05-10  4.77   4.80  4.55   4.61       4.61   25329400\n",
              "...          ...    ...   ...    ...        ...        ...\n",
              "2020-04-28  8.29   9.57  8.22   9.04       9.04  308562800\n",
              "2020-04-29  9.52   9.81  8.58   9.18       9.18  235755300\n",
              "2020-04-30  8.77   9.32  8.66   9.18       9.18  157175600\n",
              "2020-05-04  8.80   9.60  8.78   9.50       9.50  107827200\n",
              "2020-05-05  9.94  10.41  9.64   9.76       9.76  169205800\n",
              "\n",
              "[248 rows x 6 columns]"
            ]
          },
          "metadata": {
            "tags": []
          },
          "execution_count": 3
        }
      ]
    },
    {
      "cell_type": "markdown",
      "metadata": {
        "id": "QTq2HHvxdmEa",
        "colab_type": "text"
      },
      "source": [
        "# Escolher o periodo de interesse"
      ]
    },
    {
      "cell_type": "code",
      "metadata": {
        "id": "c1RcU4NjdoDr",
        "colab_type": "code",
        "outputId": "399d51c5-ea57-44f5-8fc4-ecac8f71a758",
        "colab": {
          "base_uri": "https://localhost:8080/",
          "height": 467
        }
      },
      "source": [
        "tickers = ['VVAR3.SA','MGLU3.SA','LAME4.SA']\n",
        "cotacoes = web.get_data_yahoo(tickers, period='1y')['Adj Close']\n",
        "#cotacoes[cotacoes.index.year >= 2020]\n",
        "#cotacoes[cotacoes.index >= '2020-04-28']\n",
        "#cotacoes.iloc[-21:,:]\n",
        "\n",
        "#cotacoes = cotacoes.iloc[-30:,:]\n",
        "cotacoes"
      ],
      "execution_count": 0,
      "outputs": [
        {
          "output_type": "stream",
          "text": [
            "[*********************100%***********************]  3 of 3 completed\n"
          ],
          "name": "stdout"
        },
        {
          "output_type": "execute_result",
          "data": {
            "text/html": [
              "<div>\n",
              "<style scoped>\n",
              "    .dataframe tbody tr th:only-of-type {\n",
              "        vertical-align: middle;\n",
              "    }\n",
              "\n",
              "    .dataframe tbody tr th {\n",
              "        vertical-align: top;\n",
              "    }\n",
              "\n",
              "    .dataframe thead th {\n",
              "        text-align: right;\n",
              "    }\n",
              "</style>\n",
              "<table border=\"1\" class=\"dataframe\">\n",
              "  <thead>\n",
              "    <tr style=\"text-align: right;\">\n",
              "      <th></th>\n",
              "      <th>LAME4.SA</th>\n",
              "      <th>MGLU3.SA</th>\n",
              "      <th>VVAR3.SA</th>\n",
              "    </tr>\n",
              "    <tr>\n",
              "      <th>Date</th>\n",
              "      <th></th>\n",
              "      <th></th>\n",
              "      <th></th>\n",
              "    </tr>\n",
              "  </thead>\n",
              "  <tbody>\n",
              "    <tr>\n",
              "      <th>2019-05-06</th>\n",
              "      <td>15.302024</td>\n",
              "      <td>24.852680</td>\n",
              "      <td>4.56</td>\n",
              "    </tr>\n",
              "    <tr>\n",
              "      <th>2019-05-07</th>\n",
              "      <td>14.810937</td>\n",
              "      <td>23.852070</td>\n",
              "      <td>4.72</td>\n",
              "    </tr>\n",
              "    <tr>\n",
              "      <th>2019-05-08</th>\n",
              "      <td>15.027062</td>\n",
              "      <td>24.019701</td>\n",
              "      <td>4.53</td>\n",
              "    </tr>\n",
              "    <tr>\n",
              "      <th>2019-05-09</th>\n",
              "      <td>15.469069</td>\n",
              "      <td>23.076290</td>\n",
              "      <td>4.74</td>\n",
              "    </tr>\n",
              "    <tr>\n",
              "      <th>2019-05-10</th>\n",
              "      <td>14.889582</td>\n",
              "      <td>23.150772</td>\n",
              "      <td>4.61</td>\n",
              "    </tr>\n",
              "    <tr>\n",
              "      <th>...</th>\n",
              "      <td>...</td>\n",
              "      <td>...</td>\n",
              "      <td>...</td>\n",
              "    </tr>\n",
              "    <tr>\n",
              "      <th>2020-04-28</th>\n",
              "      <td>25.190001</td>\n",
              "      <td>51.799999</td>\n",
              "      <td>9.04</td>\n",
              "    </tr>\n",
              "    <tr>\n",
              "      <th>2020-04-29</th>\n",
              "      <td>25.770000</td>\n",
              "      <td>50.619999</td>\n",
              "      <td>9.18</td>\n",
              "    </tr>\n",
              "    <tr>\n",
              "      <th>2020-04-30</th>\n",
              "      <td>24.879999</td>\n",
              "      <td>49.700001</td>\n",
              "      <td>9.18</td>\n",
              "    </tr>\n",
              "    <tr>\n",
              "      <th>2020-05-04</th>\n",
              "      <td>25.260000</td>\n",
              "      <td>51.439999</td>\n",
              "      <td>9.50</td>\n",
              "    </tr>\n",
              "    <tr>\n",
              "      <th>2020-05-05</th>\n",
              "      <td>25.540001</td>\n",
              "      <td>50.580002</td>\n",
              "      <td>9.76</td>\n",
              "    </tr>\n",
              "  </tbody>\n",
              "</table>\n",
              "<p>248 rows × 3 columns</p>\n",
              "</div>"
            ],
            "text/plain": [
              "             LAME4.SA   MGLU3.SA  VVAR3.SA\n",
              "Date                                      \n",
              "2019-05-06  15.302024  24.852680      4.56\n",
              "2019-05-07  14.810937  23.852070      4.72\n",
              "2019-05-08  15.027062  24.019701      4.53\n",
              "2019-05-09  15.469069  23.076290      4.74\n",
              "2019-05-10  14.889582  23.150772      4.61\n",
              "...               ...        ...       ...\n",
              "2020-04-28  25.190001  51.799999      9.04\n",
              "2020-04-29  25.770000  50.619999      9.18\n",
              "2020-04-30  24.879999  49.700001      9.18\n",
              "2020-05-04  25.260000  51.439999      9.50\n",
              "2020-05-05  25.540001  50.580002      9.76\n",
              "\n",
              "[248 rows x 3 columns]"
            ]
          },
          "metadata": {
            "tags": []
          },
          "execution_count": 13
        }
      ]
    },
    {
      "cell_type": "markdown",
      "metadata": {
        "id": "OLbS0R8Ndouw",
        "colab_type": "text"
      },
      "source": [
        "# Plotar um grafico com as cotacoes"
      ]
    },
    {
      "cell_type": "code",
      "metadata": {
        "id": "ggwVrydzeKvS",
        "colab_type": "code",
        "outputId": "258e01ec-1217-4c81-a1d9-c4f6055877fc",
        "colab": {
          "base_uri": "https://localhost:8080/",
          "height": 400
        }
      },
      "source": [
        "sns.set()\n",
        "cotacoes.plot(figsize=(22,6))"
      ],
      "execution_count": 0,
      "outputs": [
        {
          "output_type": "execute_result",
          "data": {
            "text/plain": [
              "<matplotlib.axes._subplots.AxesSubplot at 0x7f5d06a8e9e8>"
            ]
          },
          "metadata": {
            "tags": []
          },
          "execution_count": 14
        },
        {
          "output_type": "display_data",
          "data": {
            "image/png": "[encoded data removed]",
            "text/plain": [
              "<Figure size 1584x432 with 1 Axes>"
            ]
          },
          "metadata": {
            "tags": []
          }
        }
      ]
    },
    {
      "cell_type": "code",
      "metadata": {
        "id": "kKwzxoS4hzIN",
        "colab_type": "code",
        "colab": {}
      },
      "source": [
        ""
      ],
      "execution_count": 0,
      "outputs": []
    }
  ]
}